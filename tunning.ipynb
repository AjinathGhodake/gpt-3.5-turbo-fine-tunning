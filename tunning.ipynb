{
 "cells": [
  {
   "cell_type": "code",
   "execution_count": 153,
   "metadata": {},
   "outputs": [
    {
     "name": "stdout",
     "output_type": "stream",
     "text": [
      "Requirement already satisfied: tiktoken in /Users/aj/development/python/models/.venv/lib/python3.12/site-packages (0.6.0)\n",
      "Requirement already satisfied: regex>=2022.1.18 in /Users/aj/development/python/models/.venv/lib/python3.12/site-packages (from tiktoken) (2024.4.28)\n",
      "Requirement already satisfied: requests>=2.26.0 in /Users/aj/development/python/models/.venv/lib/python3.12/site-packages (from tiktoken) (2.31.0)\n",
      "Requirement already satisfied: charset-normalizer<4,>=2 in /Users/aj/development/python/models/.venv/lib/python3.12/site-packages (from requests>=2.26.0->tiktoken) (3.3.2)\n",
      "Requirement already satisfied: idna<4,>=2.5 in /Users/aj/development/python/models/.venv/lib/python3.12/site-packages (from requests>=2.26.0->tiktoken) (3.7)\n",
      "Requirement already satisfied: urllib3<3,>=1.21.1 in /Users/aj/development/python/models/.venv/lib/python3.12/site-packages (from requests>=2.26.0->tiktoken) (2.2.1)\n",
      "Requirement already satisfied: certifi>=2017.4.17 in /Users/aj/development/python/models/.venv/lib/python3.12/site-packages (from requests>=2.26.0->tiktoken) (2024.2.2)\n"
     ]
    }
   ],
   "source": [
    "!pip install tiktoken"
   ]
  },
  {
   "cell_type": "code",
   "execution_count": 154,
   "metadata": {},
   "outputs": [],
   "source": [
    "import pandas as pd"
   ]
  },
  {
   "cell_type": "code",
   "execution_count": 155,
   "metadata": {},
   "outputs": [],
   "source": [
    "medical_reports = pd.read_csv(\"reports.csv\")"
   ]
  },
  {
   "cell_type": "code",
   "execution_count": 156,
   "metadata": {},
   "outputs": [
    {
     "data": {
      "text/html": [
       "<div>\n",
       "<style scoped>\n",
       "    .dataframe tbody tr th:only-of-type {\n",
       "        vertical-align: middle;\n",
       "    }\n",
       "\n",
       "    .dataframe tbody tr th {\n",
       "        vertical-align: top;\n",
       "    }\n",
       "\n",
       "    .dataframe thead th {\n",
       "        text-align: right;\n",
       "    }\n",
       "</style>\n",
       "<table border=\"1\" class=\"dataframe\">\n",
       "  <thead>\n",
       "    <tr style=\"text-align: right;\">\n",
       "      <th></th>\n",
       "      <th>medical_specialty</th>\n",
       "      <th>report</th>\n",
       "    </tr>\n",
       "  </thead>\n",
       "  <tbody>\n",
       "    <tr>\n",
       "      <th>0</th>\n",
       "      <td>Cardiovascular / Pulmonary</td>\n",
       "      <td>2-D M-MODE: , ,1.  Left atrial enlargement wit...</td>\n",
       "    </tr>\n",
       "    <tr>\n",
       "      <th>1</th>\n",
       "      <td>Cardiovascular / Pulmonary</td>\n",
       "      <td>1.  The left ventricular cavity size and wall ...</td>\n",
       "    </tr>\n",
       "    <tr>\n",
       "      <th>2</th>\n",
       "      <td>Cardiovascular / Pulmonary</td>\n",
       "      <td>2-D ECHOCARDIOGRAM,Multiple views of the heart...</td>\n",
       "    </tr>\n",
       "    <tr>\n",
       "      <th>3</th>\n",
       "      <td>Cardiovascular / Pulmonary</td>\n",
       "      <td>DESCRIPTION:,1.  Normal cardiac chambers size....</td>\n",
       "    </tr>\n",
       "    <tr>\n",
       "      <th>4</th>\n",
       "      <td>Cardiovascular / Pulmonary</td>\n",
       "      <td>2-D STUDY,1. Mild aortic stenosis, widely calc...</td>\n",
       "    </tr>\n",
       "  </tbody>\n",
       "</table>\n",
       "</div>"
      ],
      "text/plain": [
       "            medical_specialty  \\\n",
       "0  Cardiovascular / Pulmonary   \n",
       "1  Cardiovascular / Pulmonary   \n",
       "2  Cardiovascular / Pulmonary   \n",
       "3  Cardiovascular / Pulmonary   \n",
       "4  Cardiovascular / Pulmonary   \n",
       "\n",
       "                                              report  \n",
       "0  2-D M-MODE: , ,1.  Left atrial enlargement wit...  \n",
       "1  1.  The left ventricular cavity size and wall ...  \n",
       "2  2-D ECHOCARDIOGRAM,Multiple views of the heart...  \n",
       "3  DESCRIPTION:,1.  Normal cardiac chambers size....  \n",
       "4  2-D STUDY,1. Mild aortic stenosis, widely calc...  "
      ]
     },
     "execution_count": 156,
     "metadata": {},
     "output_type": "execute_result"
    }
   ],
   "source": [
    "medical_reports.head()"
   ]
  },
  {
   "cell_type": "code",
   "execution_count": 157,
   "metadata": {},
   "outputs": [
    {
     "name": "stdout",
     "output_type": "stream",
     "text": [
      "<class 'pandas.core.frame.DataFrame'>\n",
      "RangeIndex: 2179 entries, 0 to 2178\n",
      "Data columns (total 2 columns):\n",
      " #   Column             Non-Null Count  Dtype \n",
      "---  ------             --------------  ----- \n",
      " 0   medical_specialty  2179 non-null   object\n",
      " 1   report             2179 non-null   object\n",
      "dtypes: object(2)\n",
      "memory usage: 34.2+ KB\n"
     ]
    }
   ],
   "source": [
    "medical_reports.info()"
   ]
  },
  {
   "cell_type": "code",
   "execution_count": 158,
   "metadata": {},
   "outputs": [
    {
     "name": "stdout",
     "output_type": "stream",
     "text": [
      "<class 'pandas.core.frame.DataFrame'>\n",
      "RangeIndex: 2179 entries, 0 to 2178\n",
      "Data columns (total 2 columns):\n",
      " #   Column             Non-Null Count  Dtype \n",
      "---  ------             --------------  ----- \n",
      " 0   medical_specialty  2179 non-null   object\n",
      " 1   report             2179 non-null   object\n",
      "dtypes: object(2)\n",
      "memory usage: 34.2+ KB\n"
     ]
    }
   ],
   "source": [
    "medical_reports.dropna(subset=['report'],inplace=True)\n",
    "medical_reports.info()"
   ]
  },
  {
   "cell_type": "code",
   "execution_count": 159,
   "metadata": {},
   "outputs": [],
   "source": [
    "grouped_data = medical_reports.groupby('medical_specialty').sample(110,random_state=42)"
   ]
  },
  {
   "cell_type": "code",
   "execution_count": 160,
   "metadata": {},
   "outputs": [
    {
     "data": {
      "text/plain": [
       "medical_specialty\n",
       "Cardiovascular / Pulmonary    110\n",
       "Gastroenterology              110\n",
       "Neurology                     110\n",
       "Radiology                     110\n",
       "Surgery                       110\n",
       "Name: count, dtype: int64"
      ]
     },
     "execution_count": 160,
     "metadata": {},
     "output_type": "execute_result"
    }
   ],
   "source": [
    "grouped_data['medical_specialty'].value_counts()"
   ]
  },
  {
   "cell_type": "code",
   "execution_count": 161,
   "metadata": {},
   "outputs": [],
   "source": [
    "grouped_data = medical_reports.groupby(\"medical_specialty\").sample(110, random_state=42) # Sample 110 items from each class\n",
    "\n",
    "val_test_data = grouped_data.groupby(\"medical_specialty\").sample(10, random_state=42)  # sample 10 items from the above data\n",
    "val = val_test_data.groupby(\"medical_specialty\").head(5) # Take the first 5 of each class\n",
    "test = val_test_data.groupby(\"medical_specialty\").tail(5) # Take the last 5 of each class\n",
    "\n",
    "train = grouped_data[~grouped_data.index.isin(val_test_data.index)] # Take the remaining ones for training"
   ]
  },
  {
   "cell_type": "code",
   "execution_count": 162,
   "metadata": {},
   "outputs": [],
   "source": [
    "train = grouped_data[~grouped_data.index.isin(val_test_data.index)]"
   ]
  },
  {
   "cell_type": "code",
   "execution_count": 163,
   "metadata": {},
   "outputs": [
    {
     "data": {
      "text/plain": [
       "500"
      ]
     },
     "execution_count": 163,
     "metadata": {},
     "output_type": "execute_result"
    }
   ],
   "source": [
    "len(train)"
   ]
  },
  {
   "cell_type": "code",
   "execution_count": 164,
   "metadata": {},
   "outputs": [
    {
     "data": {
      "text/html": [
       "<div>\n",
       "<style scoped>\n",
       "    .dataframe tbody tr th:only-of-type {\n",
       "        vertical-align: middle;\n",
       "    }\n",
       "\n",
       "    .dataframe tbody tr th {\n",
       "        vertical-align: top;\n",
       "    }\n",
       "\n",
       "    .dataframe thead th {\n",
       "        text-align: right;\n",
       "    }\n",
       "</style>\n",
       "<table border=\"1\" class=\"dataframe\">\n",
       "  <thead>\n",
       "    <tr style=\"text-align: right;\">\n",
       "      <th></th>\n",
       "      <th>medical_specialty</th>\n",
       "      <th>report</th>\n",
       "    </tr>\n",
       "  </thead>\n",
       "  <tbody>\n",
       "    <tr>\n",
       "      <th>2135</th>\n",
       "      <td>Cardiovascular / Pulmonary</td>\n",
       "      <td>PREOPERATIVE DIAGNOSES:,1.  Lumbar osteomyelit...</td>\n",
       "    </tr>\n",
       "    <tr>\n",
       "      <th>1841</th>\n",
       "      <td>Cardiovascular / Pulmonary</td>\n",
       "      <td>PREOPERATIVE DIAGNOSES:,1.  Non-small-cell car...</td>\n",
       "    </tr>\n",
       "    <tr>\n",
       "      <th>1823</th>\n",
       "      <td>Cardiovascular / Pulmonary</td>\n",
       "      <td>PROCEDURE: , Urgent cardiac catheterization wi...</td>\n",
       "    </tr>\n",
       "    <tr>\n",
       "      <th>2122</th>\n",
       "      <td>Cardiovascular / Pulmonary</td>\n",
       "      <td>PROCEDURE:,  Left Cardiac Catheterization, Lef...</td>\n",
       "    </tr>\n",
       "    <tr>\n",
       "      <th>2047</th>\n",
       "      <td>Cardiovascular / Pulmonary</td>\n",
       "      <td>EXAM: , Coronary artery CTA with calcium scori...</td>\n",
       "    </tr>\n",
       "    <tr>\n",
       "      <th>...</th>\n",
       "      <td>...</td>\n",
       "      <td>...</td>\n",
       "    </tr>\n",
       "    <tr>\n",
       "      <th>700</th>\n",
       "      <td>Surgery</td>\n",
       "      <td>HISTORY OF PRESENT ILLNESS:,  Briefly, this is...</td>\n",
       "    </tr>\n",
       "    <tr>\n",
       "      <th>74</th>\n",
       "      <td>Surgery</td>\n",
       "      <td>PREOPERATIVE DIAGNOSIS:  ,Thyroid goiter with ...</td>\n",
       "    </tr>\n",
       "    <tr>\n",
       "      <th>470</th>\n",
       "      <td>Surgery</td>\n",
       "      <td>PREOPERATIVE DIAGNOSIS:,1.  Cholelithiasis.,2....</td>\n",
       "    </tr>\n",
       "    <tr>\n",
       "      <th>880</th>\n",
       "      <td>Surgery</td>\n",
       "      <td>PREOPERATIVE DIAGNOSIS: , Cataract, left eye.,...</td>\n",
       "    </tr>\n",
       "    <tr>\n",
       "      <th>357</th>\n",
       "      <td>Surgery</td>\n",
       "      <td>PREOPERATIVE DIAGNOSES:  ,Tympanic membrane at...</td>\n",
       "    </tr>\n",
       "  </tbody>\n",
       "</table>\n",
       "<p>500 rows × 2 columns</p>\n",
       "</div>"
      ],
      "text/plain": [
       "               medical_specialty  \\\n",
       "2135  Cardiovascular / Pulmonary   \n",
       "1841  Cardiovascular / Pulmonary   \n",
       "1823  Cardiovascular / Pulmonary   \n",
       "2122  Cardiovascular / Pulmonary   \n",
       "2047  Cardiovascular / Pulmonary   \n",
       "...                          ...   \n",
       "700                      Surgery   \n",
       "74                       Surgery   \n",
       "470                      Surgery   \n",
       "880                      Surgery   \n",
       "357                      Surgery   \n",
       "\n",
       "                                                 report  \n",
       "2135  PREOPERATIVE DIAGNOSES:,1.  Lumbar osteomyelit...  \n",
       "1841  PREOPERATIVE DIAGNOSES:,1.  Non-small-cell car...  \n",
       "1823  PROCEDURE: , Urgent cardiac catheterization wi...  \n",
       "2122  PROCEDURE:,  Left Cardiac Catheterization, Lef...  \n",
       "2047  EXAM: , Coronary artery CTA with calcium scori...  \n",
       "...                                                 ...  \n",
       "700   HISTORY OF PRESENT ILLNESS:,  Briefly, this is...  \n",
       "74    PREOPERATIVE DIAGNOSIS:  ,Thyroid goiter with ...  \n",
       "470   PREOPERATIVE DIAGNOSIS:,1.  Cholelithiasis.,2....  \n",
       "880   PREOPERATIVE DIAGNOSIS: , Cataract, left eye.,...  \n",
       "357   PREOPERATIVE DIAGNOSES:  ,Tympanic membrane at...  \n",
       "\n",
       "[500 rows x 2 columns]"
      ]
     },
     "execution_count": 164,
     "metadata": {},
     "output_type": "execute_result"
    }
   ],
   "source": [
    "train"
   ]
  },
  {
   "cell_type": "code",
   "execution_count": 165,
   "metadata": {},
   "outputs": [],
   "source": [
    "import tiktoken"
   ]
  },
  {
   "cell_type": "code",
   "execution_count": 166,
   "metadata": {},
   "outputs": [],
   "source": [
    "def num_token_from_string(string):\n",
    "    encoding = tiktoken.get_encoding('cl100k_base')\n",
    "    num_tokens = len(encoding.encode(string))\n",
    "    return num_tokens"
   ]
  },
  {
   "cell_type": "code",
   "execution_count": 167,
   "metadata": {},
   "outputs": [],
   "source": [
    "# num_token_from_string(\"Hello world how are you regularizationsupersuper\")"
   ]
  },
  {
   "cell_type": "code",
   "execution_count": 168,
   "metadata": {},
   "outputs": [],
   "source": [
    "reports_lengths  =train['report'].apply(num_token_from_string)"
   ]
  },
  {
   "cell_type": "code",
   "execution_count": 169,
   "metadata": {},
   "outputs": [
    {
     "data": {
      "text/plain": [
       "337394"
      ]
     },
     "execution_count": 169,
     "metadata": {},
     "output_type": "execute_result"
    }
   ],
   "source": [
    "reports_lengths.sum()"
   ]
  },
  {
   "cell_type": "code",
   "execution_count": 170,
   "metadata": {},
   "outputs": [],
   "source": [
    "price_model = 0.008"
   ]
  },
  {
   "cell_type": "code",
   "execution_count": 171,
   "metadata": {},
   "outputs": [],
   "source": [
    "price_per_epoch = 337394 * 0.008/1000"
   ]
  },
  {
   "cell_type": "code",
   "execution_count": 172,
   "metadata": {},
   "outputs": [
    {
     "data": {
      "text/plain": [
       "2.699152"
      ]
     },
     "execution_count": 172,
     "metadata": {},
     "output_type": "execute_result"
    }
   ],
   "source": [
    "price_per_epoch"
   ]
  },
  {
   "cell_type": "code",
   "execution_count": 173,
   "metadata": {},
   "outputs": [
    {
     "data": {
      "text/plain": [
       "array(['Cardiovascular / Pulmonary', 'Gastroenterology', 'Neurology',\n",
       "       'Radiology', 'Surgery'], dtype=object)"
      ]
     },
     "execution_count": 173,
     "metadata": {},
     "output_type": "execute_result"
    }
   ],
   "source": [
    "train['medical_specialty'].unique()"
   ]
  },
  {
   "cell_type": "code",
   "execution_count": 174,
   "metadata": {},
   "outputs": [],
   "source": [
    "system_prompt =\"given the medical description report, classify it into on of these categories: \"+ \\\n",
    "    \"Cardiovascular / Pulmonary, Gastroenterology, Neurology,Radiology, Surgery\""
   ]
  },
  {
   "cell_type": "code",
   "execution_count": 175,
   "metadata": {},
   "outputs": [
    {
     "name": "stdout",
     "output_type": "stream",
     "text": [
      "given the medical description report, classify it into on of these categories: Cardiovascular / Pulmonary, Gastroenterology, Neurology,Radiology, Surgery\n"
     ]
    }
   ],
   "source": [
    "print(system_prompt)"
   ]
  },
  {
   "cell_type": "code",
   "execution_count": 176,
   "metadata": {},
   "outputs": [],
   "source": [
    "sample_prompt = {\"messages\":[{'role':'system','content':system_prompt},\n",
    "                             {'role':'user',\"content\":train['report'].iloc[0]},\n",
    "                             {'role':'assistant','content':train['medical_specialty'].iloc[0]}]}"
   ]
  },
  {
   "cell_type": "code",
   "execution_count": 177,
   "metadata": {},
   "outputs": [],
   "source": [
    "# print(sample_prompt)"
   ]
  },
  {
   "cell_type": "code",
   "execution_count": 178,
   "metadata": {},
   "outputs": [],
   "source": [
    "def df_to_format(df):\n",
    "    formatted_data = []\n",
    "\n",
    "    for index,row in df.iterrows():\n",
    "        entry = {\"messages\":[{'role':'system','content':system_prompt},\n",
    "                             {'role':'user',\"content\":row['report']},\n",
    "                             {'role':'assistant','content':row['medical_specialty']}]}\n",
    "        formatted_data.append(entry)\n",
    "\n",
    "    return formatted_data\n"
   ]
  },
  {
   "cell_type": "code",
   "execution_count": 179,
   "metadata": {},
   "outputs": [],
   "source": [
    "data = df_to_format(train)"
   ]
  },
  {
   "cell_type": "code",
   "execution_count": 180,
   "metadata": {},
   "outputs": [],
   "source": [
    "# data[10]"
   ]
  },
  {
   "cell_type": "code",
   "execution_count": 181,
   "metadata": {},
   "outputs": [],
   "source": [
    "import json\n",
    "\n",
    "with open('fine_tunning_data.jsonl','w') as f:\n",
    "    for entry in data:\n",
    "        f.write(json.dumps(entry))\n",
    "        f.write(\"\\n\")\n"
   ]
  },
  {
   "cell_type": "code",
   "execution_count": 182,
   "metadata": {},
   "outputs": [],
   "source": [
    "val_data = df_to_format(val)"
   ]
  },
  {
   "cell_type": "code",
   "execution_count": 183,
   "metadata": {},
   "outputs": [],
   "source": [
    "import json\n",
    "with open('fine_tuning_data_val.jsonl', 'w') as f:\n",
    "    for entry in val_data:\n",
    "        f.write(json.dumps(entry))\n",
    "        f.write(\"\\n\")\n"
   ]
  },
  {
   "cell_type": "code",
   "execution_count": 184,
   "metadata": {},
   "outputs": [],
   "source": [
    "import os\n",
    "import openai"
   ]
  },
  {
   "cell_type": "code",
   "execution_count": 185,
   "metadata": {},
   "outputs": [],
   "source": [
    "from openai import OpenAI\n",
    "\n",
    "client = OpenAI(api_key='')"
   ]
  },
  {
   "cell_type": "code",
   "execution_count": 186,
   "metadata": {},
   "outputs": [],
   "source": [
    "file_upload_response = client.files.create(file=open('fine_tunning_data.jsonl','rb'),purpose='fine-tune')"
   ]
  },
  {
   "cell_type": "code",
   "execution_count": 187,
   "metadata": {},
   "outputs": [
    {
     "data": {
      "text/plain": [
       "FileObject(id='file-4fxhzBUVxCS1jtsETQyid7BF', bytes=1541622, created_at=1715486613, filename='fine_tunning_data.jsonl', object='file', purpose='fine-tune', status='processed', status_details=None)"
      ]
     },
     "execution_count": 187,
     "metadata": {},
     "output_type": "execute_result"
    }
   ],
   "source": [
    "file_upload_response"
   ]
  },
  {
   "cell_type": "code",
   "execution_count": 188,
   "metadata": {},
   "outputs": [],
   "source": [
    "file_upload_response_val = client.files.create(file=open('fine_tuning_data_val.jsonl','rb'),purpose='fine-tune')"
   ]
  },
  {
   "cell_type": "code",
   "execution_count": 189,
   "metadata": {},
   "outputs": [
    {
     "data": {
      "text/plain": [
       "FileObject(id='file-EG4OCJZtQDPF3BuWlbJoq4l4', bytes=101384, created_at=1715486614, filename='fine_tuning_data_val.jsonl', object='file', purpose='fine-tune', status='processed', status_details=None)"
      ]
     },
     "execution_count": 189,
     "metadata": {},
     "output_type": "execute_result"
    }
   ],
   "source": [
    "file_upload_response_val"
   ]
  },
  {
   "cell_type": "code",
   "execution_count": 190,
   "metadata": {},
   "outputs": [],
   "source": [
    "fine_tunning_response = client.fine_tuning.jobs.create(training_file=file_upload_response.id,model='gpt-3.5-turbo',\n",
    "                                                       hyperparameters={'n_epochs':1},\n",
    "                                                       validation_file=file_upload_response_val.id\n",
    "                                                       )"
   ]
  },
  {
   "cell_type": "code",
   "execution_count": 203,
   "metadata": {},
   "outputs": [
    {
     "data": {
      "text/plain": [
       "FineTuningJob(id='ftjob-LdhQePJqOo1rjGQOjpeFUvji', created_at=1715486616, error=Error(code=None, message=None, param=None), fine_tuned_model=None, finished_at=None, hyperparameters=Hyperparameters(n_epochs=1, batch_size='auto', learning_rate_multiplier='auto'), model='gpt-3.5-turbo-0125', object='fine_tuning.job', organization_id='org-bF5sIsIpFOTi6Yk29wkHlvjy', result_files=[], seed=366653837, status='validating_files', trained_tokens=None, training_file='file-4fxhzBUVxCS1jtsETQyid7BF', validation_file='file-EG4OCJZtQDPF3BuWlbJoq4l4', estimated_finish=None, integrations=[], user_provided_suffix=None)"
      ]
     },
     "execution_count": 203,
     "metadata": {},
     "output_type": "execute_result"
    }
   ],
   "source": [
    "fine_tunning_response"
   ]
  },
  {
   "cell_type": "code",
   "execution_count": 204,
   "metadata": {},
   "outputs": [
    {
     "data": {
      "text/plain": [
       "SyncCursorPage[FineTuningJob](data=[FineTuningJob(id='ftjob-LdhQePJqOo1rjGQOjpeFUvji', created_at=1715486616, error=Error(code=None, message=None, param=None), fine_tuned_model=None, finished_at=None, hyperparameters=Hyperparameters(n_epochs=1, batch_size=1, learning_rate_multiplier=2), model='gpt-3.5-turbo-0125', object='fine_tuning.job', organization_id='org-bF5sIsIpFOTi6Yk29wkHlvjy', result_files=[], seed=366653837, status='cancelled', trained_tokens=None, training_file='file-4fxhzBUVxCS1jtsETQyid7BF', validation_file='file-EG4OCJZtQDPF3BuWlbJoq4l4', estimated_finish=None, integrations=[], user_provided_suffix=None)], object='list', has_more=True)"
      ]
     },
     "execution_count": 204,
     "metadata": {},
     "output_type": "execute_result"
    }
   ],
   "source": [
    "client.fine_tuning.jobs.list(limit=1)"
   ]
  },
  {
   "cell_type": "code",
   "execution_count": 205,
   "metadata": {},
   "outputs": [],
   "source": [
    "train_event = client.fine_tuning.jobs.list_events(fine_tuning_job_id='ftjob-NlpnHTlIM6Y2qAPJ1aq3rlQI',\n",
    "                                                     limit=500)"
   ]
  },
  {
   "cell_type": "code",
   "execution_count": 215,
   "metadata": {},
   "outputs": [
    {
     "data": {
      "text/plain": [
       "FineTuningJobEvent(id='ftevent-qlDlGtiItouBML80jWajQ6cg', created_at=1715486110, level='info', message='The job has successfully completed', object='fine_tuning.job.event', data={}, type='message')"
      ]
     },
     "execution_count": 215,
     "metadata": {},
     "output_type": "execute_result"
    }
   ],
   "source": [
    "train_event.data[0]"
   ]
  },
  {
   "cell_type": "code",
   "execution_count": 223,
   "metadata": {},
   "outputs": [],
   "source": [
    "train_loss = []\n",
    "val_loss = []\n",
    "\n",
    "for item in train_event.data:\n",
    "    # train_data = data\n",
    "    if 'train_loss' in item.data and 'valid_loss' in item.data:\n",
    "        train_loss.insert(0, item.data['train_loss'])\n",
    "        val_loss.insert(0, item.data['valid_loss'])"
   ]
  },
  {
   "cell_type": "code",
   "execution_count": 225,
   "metadata": {},
   "outputs": [
    {
     "data": {
      "text/plain": [
       "[1.497790813446045,\n",
       " 0.00011420249938964844,\n",
       " 4.6271514892578125,\n",
       " 0.00035349527024663985,\n",
       " 2.86102294921875e-06,\n",
       " 3.295041561126709,\n",
       " 0.00013780593872070312,\n",
       " 0.00022864341735839844,\n",
       " 0.0003452301025390625,\n",
       " 1.271565793103946e-06,\n",
       " 2.0343053340911865,\n",
       " 0.0008063316345214844,\n",
       " 3.1240580081939697,\n",
       " 7.629394644936838e-07,\n",
       " 7.629394644936838e-07,\n",
       " 0.004899263381958008,\n",
       " 4.76837158203125e-07,\n",
       " 6.35782896551973e-07,\n",
       " 6.35782896551973e-07,\n",
       " 9.5367431640625e-07,\n",
       " 3.506896495819092,\n",
       " 4.00543212890625e-05,\n",
       " 6.35782896551973e-07,\n",
       " 6.35782896551973e-07,\n",
       " 5.75845193862915,\n",
       " 7.629394644936838e-07,\n",
       " 4.37109899520874,\n",
       " 7.629394644936838e-07,\n",
       " 1.430511474609375e-06,\n",
       " 9.5367431640625e-06,\n",
       " 9.5367431640625e-07,\n",
       " 6.35782896551973e-07,\n",
       " 0.16057968139648438,\n",
       " 4.76837158203125e-07,\n",
       " 2.6668410301208496,\n",
       " 1.1361653804779053,\n",
       " 4.76837158203125e-07,\n",
       " 2.384185791015625e-07,\n",
       " 0.0013027191162109375,\n",
       " 9.5367431640625e-07,\n",
       " 3.081785202026367,\n",
       " 3.178914482759865e-07,\n",
       " 2.384185791015625e-07,\n",
       " 7.629394644936838e-07,\n",
       " 6.35782896551973e-07,\n",
       " 7.629394644936838e-07,\n",
       " 4.76837158203125e-07,\n",
       " 2.384185791015625e-07,\n",
       " 3.178914482759865e-07,\n",
       " 0.0002567291376180947]"
      ]
     },
     "execution_count": 225,
     "metadata": {},
     "output_type": "execute_result"
    }
   ],
   "source": [
    "train_loss"
   ]
  },
  {
   "cell_type": "code",
   "execution_count": 226,
   "metadata": {},
   "outputs": [
    {
     "data": {
      "text/plain": [
       "[<matplotlib.lines.Line2D at 0x174f8e660>]"
      ]
     },
     "execution_count": 226,
     "metadata": {},
     "output_type": "execute_result"
    },
    {
     "data": {
      "image/png": "[encoded data removed]",
      "text/plain": [
       "<Figure size 640x480 with 1 Axes>"
      ]
     },
     "metadata": {},
     "output_type": "display_data"
    }
   ],
   "source": [
    "import matplotlib.pyplot as plt\n",
    "plt.figure()\n",
    "plt.plot(train_loss)\n",
    "plt.plot(val_loss)"
   ]
  },
  {
   "cell_type": "code",
   "execution_count": 231,
   "metadata": {},
   "outputs": [],
   "source": [
    "test_reports = test['report'].iloc[1]"
   ]
  },
  {
   "cell_type": "code",
   "execution_count": 236,
   "metadata": {},
   "outputs": [],
   "source": [
    "completion = client.chat.completions.create(model='ft:gpt-3.5-turbo-0125:personal::9NuagHuq',\n",
    "                                            messages=[\n",
    "                                                {'role':'system','content':system_prompt},\n",
    "                                                {\n",
    "                                                    'role':'user','content':test_reports\n",
    "                                                }\n",
    "                                            ]\n",
    "                                            )"
   ]
  },
  {
   "cell_type": "code",
   "execution_count": 233,
   "metadata": {},
   "outputs": [
    {
     "data": {
      "text/plain": [
       "ChatCompletionMessage(content='This medical description report falls under the category of Cardiovascular / Pulmonary.', role='assistant', function_call=None, tool_calls=None)"
      ]
     },
     "execution_count": 233,
     "metadata": {},
     "output_type": "execute_result"
    }
   ],
   "source": [
    "completion.choices[0].message"
   ]
  },
  {
   "cell_type": "code",
   "execution_count": 234,
   "metadata": {},
   "outputs": [
    {
     "data": {
      "text/plain": [
       "'given the medical description report, classify it into on of these categories: Cardiovascular / Pulmonary, Gastroenterology, Neurology,Radiology, Surgery'"
      ]
     },
     "execution_count": 234,
     "metadata": {},
     "output_type": "execute_result"
    }
   ],
   "source": [
    "system_prompt"
   ]
  },
  {
   "cell_type": "code",
   "execution_count": 239,
   "metadata": {},
   "outputs": [
    {
     "data": {
      "text/plain": [
       "'Cardiovascular / Pulmonary'"
      ]
     },
     "execution_count": 239,
     "metadata": {},
     "output_type": "execute_result"
    }
   ],
   "source": [
    "completion.choices[0].message.content.strip()"
   ]
  },
  {
   "cell_type": "code",
   "execution_count": 243,
   "metadata": {},
   "outputs": [],
   "source": [
    "def classify_report(report,model):\n",
    "    completion = client.chat.completions.create(model=model,\n",
    "                                            messages=[\n",
    "                                                {'role':'system','content':system_prompt},\n",
    "                                                {\n",
    "                                                    'role':'user','content':report\n",
    "                                                }\n",
    "                                            ]\n",
    "                                            )\n",
    "    return completion"
   ]
  },
  {
   "cell_type": "code",
   "execution_count": 244,
   "metadata": {},
   "outputs": [],
   "source": [
    "predicted_classes   =[]\n",
    "ground_truth_classes = []\n",
    "\n",
    "for line in test.iterrows():\n",
    "    report,specialty = line[1]['report'],line[1]['medical_specialty']\n",
    "    ground_truth_classes.append(specialty.strip())\n",
    "    prediction = classify_report(report,model='gpt-3.5-turbo')\n",
    "    predicted_classes.append(prediction.choices[0].message.content.strip())"
   ]
  },
  {
   "cell_type": "code",
   "execution_count": 246,
   "metadata": {},
   "outputs": [
    {
     "data": {
      "text/plain": [
       "0.44"
      ]
     },
     "execution_count": 246,
     "metadata": {},
     "output_type": "execute_result"
    }
   ],
   "source": [
    "import numpy as np\n",
    "\n",
    "(np.array(predicted_classes) == np.array(ground_truth_classes)).mean()"
   ]
  },
  {
   "cell_type": "code",
   "execution_count": 247,
   "metadata": {},
   "outputs": [],
   "source": [
    "predicted_classes   =[]\n",
    "ground_truth_classes = []\n",
    "\n",
    "for line in test.iterrows():\n",
    "    report,specialty = line[1]['report'],line[1]['medical_specialty']\n",
    "    ground_truth_classes.append(specialty.strip())\n",
    "    prediction = classify_report(report,model='ft:gpt-3.5-turbo-0125:personal::9NuagHuq')\n",
    "    predicted_classes.append(prediction.choices[0].message.content.strip())"
   ]
  },
  {
   "cell_type": "code",
   "execution_count": 248,
   "metadata": {},
   "outputs": [
    {
     "data": {
      "text/plain": [
       "0.64"
      ]
     },
     "execution_count": 248,
     "metadata": {},
     "output_type": "execute_result"
    }
   ],
   "source": [
    "import numpy as np\n",
    "\n",
    "(np.array(predicted_classes) == np.array(ground_truth_classes)).mean()"
   ]
  }
 ],
 "metadata": {
  "kernelspec": {
   "display_name": ".venv",
   "language": "python",
   "name": "python3"
  },
  "language_info": {
   "codemirror_mode": {
    "name": "ipython",
    "version": 3
   },
   "file_extension": ".py",
   "mimetype": "text/x-python",
   "name": "python",
   "nbconvert_exporter": "python",
   "pygments_lexer": "ipython3",
   "version": "3.12.2"
  }
 },
 "nbformat": 4,
 "nbformat_minor": 2
}
